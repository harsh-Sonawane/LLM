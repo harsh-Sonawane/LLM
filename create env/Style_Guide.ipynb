{
 "cells": [
  {
   "cell_type": "markdown",
   "metadata": {},
   "source": [
    "## PEP 8 – Style Guide for Python Code\n",
    "link :- [PEP 8](https://peps.python.org/pep-0008/)\n",
    "\n",
    "*Naming Conventions:*\n",
    "\n",
    "Modules: Use lowercase names for modules.  \n",
    "Packages: Use lowercase names for packages.   \n",
    "Classes: Use CamelCase (e.g., MyClassName).   \n",
    "Functions: Use lowercase names with underscores between words (e.g., my_function).   \n",
    "Variables: Use lowercase names with underscores between words (e.g., my_variable).   \n",
    "Constants: Use uppercase names with underscores between words (e.g., MY_CONSTANT).  \n",
    "\n",
    "*Case Formatting:*\n",
    "\n",
    "Indentation: Use 4 spaces for indentation.   \n",
    "Line Length: Limit lines to 79 characters.  \n",
    "Blank Lines: Use one blank line between top-level definitions (classes, functions, etc.).  \n",
    "Comments: Use inline comments or block comments.  \n",
    "Quotes: Use double quotes for strings.  \n",
    "\n",
    "*Other Recommendations:*\n",
    "\n",
    "Whitespace: Use consistent whitespace around operators and keywords.  \n",
    "Imports: Place imports at the beginning of the module, sorted by module name.  \n",
    "Top-Level Code: Avoid top-level code that is not part of a function or class definition.  "
   ]
  },
  {
   "cell_type": "markdown",
   "metadata": {},
   "source": []
  }
 ],
 "metadata": {
  "language_info": {
   "name": "python"
  }
 },
 "nbformat": 4,
 "nbformat_minor": 2
}
