{
 "cells": [
  {
   "cell_type": "markdown",
   "metadata": {},
   "source": [
    "1 \n",
    "# create venv\n",
    "python -m venv {env_name}\n",
    "\n",
    "*Activate*\n",
    "{env_name}/Scripts/activate \n",
    "\n",
    "*Deactivate*\n",
    "{env_name}/Scripts/activate"
   ]
  },
  {
   "cell_type": "markdown",
   "metadata": {},
   "source": [
    "2\n",
    "# for ubuntu\n",
    "pip install virtualenv\n",
    "\n",
    "virtualenv -p python3 {env_name}\n",
    "*Activate*\n",
    "{env_name}/Scripts/activate \n",
    "\n",
    "*Deactivate*\n",
    "{env_name}/Scripts/activate"
   ]
  },
  {
   "cell_type": "markdown",
   "metadata": {},
   "source": [
    "3 \n",
    "# conda \n",
    "conda create -p {env_name} python=={pythonversion} "
   ]
  },
  {
   "cell_type": "code",
   "execution_count": null,
   "metadata": {},
   "outputs": [],
   "source": []
  }
 ],
 "metadata": {
  "kernelspec": {
   "display_name": "LLM",
   "language": "python",
   "name": "python3"
  },
  "language_info": {
   "codemirror_mode": {
    "name": "ipython",
    "version": 3
   },
   "file_extension": ".py",
   "mimetype": "text/x-python",
   "name": "python",
   "nbconvert_exporter": "python",
   "pygments_lexer": "ipython3",
   "version": "3.12.5"
  }
 },
 "nbformat": 4,
 "nbformat_minor": 2
}
